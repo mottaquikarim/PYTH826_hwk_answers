{
  "nbformat": 4,
  "nbformat_minor": 0,
  "metadata": {
    "colab": {
      "name": "PYTH826: basic_data_inclass_psets.ipynb",
      "version": "0.3.2",
      "provenance": [],
      "include_colab_link": true
    },
    "kernelspec": {
      "name": "python3",
      "display_name": "Python 3"
    }
  },
  "cells": [
    {
      "cell_type": "markdown",
      "metadata": {
        "id": "view-in-github",
        "colab_type": "text"
      },
      "source": [
        "<a href=\"https://colab.research.google.com/github/mottaquikarim/PYTH826_hwk_answers/blob/master/PYTH826_basic_data_inclass_psets.ipynb\" target=\"_parent\"><img src=\"https://colab.research.google.com/assets/colab-badge.svg\" alt=\"Open In Colab\"/></a>"
      ]
    },
    {
      "cell_type": "markdown",
      "metadata": {
        "id": "IKd6qOOSa0u_",
        "colab_type": "text"
      },
      "source": [
        "<a href=\"https://colab.research.google.com/github/mottaquikarim/PYTH2/blob/master/src/PSETS/nb/basic_data_inclass_psets.ipynb\" target=\"_parent\"><img src=\"https://colab.research.google.com/assets/colab-badge.svg\" alt=\"Open In Colab\"/></a>"
      ]
    },
    {
      "cell_type": "markdown",
      "metadata": {
        "id": "F5zMMyuYa0vB",
        "colab_type": "text"
      },
      "source": [
        "#  BASIC DATA TYPES\n",
        "\n",
        "## BASICS\n",
        "\n",
        "### P1.PY\n",
        "\n",
        "\n"
      ]
    },
    {
      "cell_type": "code",
      "metadata": {
        "id": "qlh42vTQa0vC",
        "colab_type": "code",
        "colab": {
          "base_uri": "https://localhost:8080/",
          "height": 34
        },
        "outputId": "7cb88211-20ff-495a-f95e-a4a0b3d5b651"
      },
      "source": [
        "\"\"\"\n",
        "Placeholders\n",
        "\"\"\"\n",
        "\n",
        "# You're writing a program, and you don't know what your starting value for your 'initial' variable is yet. The program won't run if you leave it blank, but you don't want to forget you need it! Make a workaround.\n",
        "\n",
        "my_var = None\n",
        "\n",
        "print(my_var)"
      ],
      "execution_count": 2,
      "outputs": [
        {
          "output_type": "stream",
          "text": [
            "None\n"
          ],
          "name": "stdout"
        }
      ]
    },
    {
      "cell_type": "markdown",
      "metadata": {
        "id": "bR664VBwa0vG",
        "colab_type": "text"
      },
      "source": [
        "\n",
        "\n",
        "### P2.PY\n",
        "\n",
        "\n"
      ]
    },
    {
      "cell_type": "code",
      "metadata": {
        "id": "SgoFBklTa0vH",
        "colab_type": "code",
        "colab": {
          "base_uri": "https://localhost:8080/",
          "height": 103
        },
        "outputId": "9db86b38-cbda-45bc-e518-f3b61dd9e831"
      },
      "source": [
        "\"\"\"\n",
        "Basic Variables\n",
        "\"\"\"\n",
        "\n",
        "# Create a variable that represents your favorite number, and add a note to remind yourself what this variable represents. Now print it out without re-typing the number.\n",
        "\n",
        "my_fav_num = 3\n",
        "\n",
        "\n",
        "# Create another variable that represents your favorite color, and do the same steps as above.\n",
        "my_fav_color = \"blue\"\n",
        "\n",
        "this_is_a_long_str = \"\"\"\n",
        "Hello! Lots of stuff\n",
        "\n",
        "  here\n",
        "\"\"\"\n",
        "\n",
        "print(this_is_a_long_str)\n",
        "\n",
        "\n"
      ],
      "execution_count": 6,
      "outputs": [
        {
          "output_type": "stream",
          "text": [
            "\n",
            "Hello! Lots of stuff\n",
            "\n",
            "  here\n",
            "\n"
          ],
          "name": "stdout"
        }
      ]
    },
    {
      "cell_type": "markdown",
      "metadata": {
        "id": "uDILzUFTa0vK",
        "colab_type": "text"
      },
      "source": [
        "\n",
        "\n",
        "### P3.PY\n",
        "\n",
        "\n"
      ]
    },
    {
      "cell_type": "code",
      "metadata": {
        "id": "l3POenpPa0vL",
        "colab_type": "code",
        "colab": {
          "base_uri": "https://localhost:8080/",
          "height": 34
        },
        "outputId": "a3dec72a-62e6-4451-8b30-001062b67eac"
      },
      "source": [
        "\"\"\"\n",
        "String Formatting\n",
        "\"\"\"\n",
        "\n",
        "# Create a variable that contains the first 4 lines of your favorite song. \n",
        "# Add a comment that includes the song title and artist **each on their own line**! \n",
        "# Now print out this variable.\n",
        "\n",
        "my_fav_song = \"\"\"\n",
        "twinkle, twinkle\n",
        "little star\n",
        "\"\"\"\n",
        "\n",
        "\n",
        "pi = 3.14159\n",
        "print(type(pi))\n",
        "\n",
        "is_summer_over = True\n",
        "really_tho = False\n",
        "\n"
      ],
      "execution_count": 7,
      "outputs": [
        {
          "output_type": "stream",
          "text": [
            "<class 'float'>\n"
          ],
          "name": "stdout"
        }
      ]
    },
    {
      "cell_type": "markdown",
      "metadata": {
        "id": "eFiGVKGla0vP",
        "colab_type": "text"
      },
      "source": [
        "\n",
        "\n",
        "## TYPECASTING\n",
        "\n",
        "### P1.PY\n",
        "\n",
        "\n"
      ]
    },
    {
      "cell_type": "code",
      "metadata": {
        "id": "4ar6SQu4a0vQ",
        "colab_type": "code",
        "colab": {
          "base_uri": "https://localhost:8080/",
          "height": 51
        },
        "outputId": "c2192dbd-1653-4ea4-b976-5867511426d0"
      },
      "source": [
        "\"\"\"\n",
        "Typcasting w. Integers & Floats\n",
        "\"\"\"\n",
        "\n",
        "# Convert these numbers into floats and back. Print out each result as well as its data type.\n",
        "\n",
        "five = 5\n",
        "zero = 0\n",
        "neg_8 = -8\n",
        "neg_22 = -22\n",
        "\n",
        "float_five = float(five)\n",
        "print(float_five)\n",
        "\n",
        "print(5 * 1.0)"
      ],
      "execution_count": 9,
      "outputs": [
        {
          "output_type": "stream",
          "text": [
            "5.0\n",
            "5.0\n"
          ],
          "name": "stdout"
        }
      ]
    },
    {
      "cell_type": "markdown",
      "metadata": {
        "id": "zX1VsUZHa0vS",
        "colab_type": "text"
      },
      "source": [
        "\n",
        "\n",
        "### P2.PY\n",
        "\n",
        "\n"
      ]
    },
    {
      "cell_type": "code",
      "metadata": {
        "id": "IFHr2P9ca0vS",
        "colab_type": "code",
        "colab": {
          "base_uri": "https://localhost:8080/",
          "height": 34
        },
        "outputId": "26c6f2cb-a420-4731-b33e-95d2c51a64af"
      },
      "source": [
        "\"\"\"\n",
        "Typcasting w. Strings\n",
        "\"\"\"\n",
        "\n",
        "# Convert these variables into strings and then back to their original data types. Print out each result as well as its data type. What do you notice about the last one?\n",
        "\n",
        "five = 5\n",
        "zero = 0\n",
        "neg_8 = -8\n",
        "T = True\n",
        "F = False\n",
        "\n",
        "\n",
        "# convert 5 the integer into '5', the stirng\n",
        "str_five = str(five)\n",
        "\n",
        "\n",
        "# validate that str_five is indeed type string\n",
        "print(type(str_five))"
      ],
      "execution_count": 13,
      "outputs": [
        {
          "output_type": "stream",
          "text": [
            "<class 'str'>\n"
          ],
          "name": "stdout"
        }
      ]
    },
    {
      "cell_type": "markdown",
      "metadata": {
        "id": "8FghHGE2a0vU",
        "colab_type": "text"
      },
      "source": [
        "\n",
        "\n",
        "### P3.PY\n",
        "\n",
        "\n"
      ]
    },
    {
      "cell_type": "code",
      "metadata": {
        "id": "e8NtUCzVa0vV",
        "colab_type": "code",
        "colab": {
          "base_uri": "https://localhost:8080/",
          "height": 137
        },
        "outputId": "85eeca19-7353-4440-96e6-8c7fa282dc41"
      },
      "source": [
        "\"\"\"\n",
        "Booleans I - Typecasting w. Numbers\n",
        "\"\"\"\n",
        "\n",
        "# A) Use typecasting to turn these variables into boolean values. Print the result and the datatype of the result. \n",
        "\n",
        "one = 1\n",
        "zero = 0\n",
        "\n",
        "b_one = bool(one) # True\n",
        "b_zero = bool(zero) # False\n",
        "\n",
        "\n",
        "# B) Use typecasting to turn the resultant variables from part A into floats. Print the result and the datatype of the result.\n",
        "f_one = float(b_one) # 1.0\n",
        "f_zero = float(b_zero) # 0.0\n",
        "print(f_one)\n",
        "print(f_zero)\n",
        "\n",
        "# C) Use typecasting to turn the resultant variables from part B back into booleans. Print the result and the datatype of the result.\n",
        "b_one = bool(f_one) # True\n",
        "b_zero = bool(f_zero) # False\n",
        "\n",
        "print(b_one)\n",
        "print(b_zero)\n",
        "\n",
        "# C) Use typecasting to turn the resultant variables from part C into integers. Print the result and the datatype of the result.\n",
        "i_one = int(b_one) # 1\n",
        "i_zero = int(b_zero) # 0\n",
        "\n",
        "print(i_one)\n",
        "print(i_zero)\n",
        "\n",
        "# E) Use typecasting to turn the variable below into a boolean value. Print the result and the datatype of the result. \n",
        "\n",
        "ten = 10\n",
        "print(bool(ten))\n",
        "\n"
      ],
      "execution_count": 19,
      "outputs": [
        {
          "output_type": "stream",
          "text": [
            "1.0\n",
            "0.0\n",
            "True\n",
            "False\n",
            "1\n",
            "0\n",
            "True\n"
          ],
          "name": "stdout"
        }
      ]
    },
    {
      "cell_type": "markdown",
      "metadata": {
        "id": "iTPLZaHpa0vY",
        "colab_type": "text"
      },
      "source": [
        "\n",
        "\n",
        "### P4.PY\n",
        "\n",
        "\n"
      ]
    },
    {
      "cell_type": "code",
      "metadata": {
        "id": "l5OFpYQja0vY",
        "colab_type": "code",
        "colab": {
          "base_uri": "https://localhost:8080/",
          "height": 34
        },
        "outputId": "70195aec-4f01-4cb3-da54-0e6cd20a549a"
      },
      "source": [
        "\"\"\"\n",
        "Booleans II - Typecasting w. Strings\n",
        "\"\"\"\n",
        "\n",
        "# A) Use typecasting to turn these variables into boolean values. Print the result and the datatype of the result. \n",
        "\n",
        "one = 1\n",
        "zero = 0\n",
        "bool_true = True\n",
        "bool_false = False\n",
        "\n",
        "s_one = str(one)\n",
        "s_zero = str(zero)\n",
        "s_bool_true = str(bool_true)\n",
        "s_bool_false = str(bool_false)\n",
        "\n",
        "print(bool_true,s_zero,s_bool_true,s_bool_false)\n",
        "\n",
        "\n",
        "# B) Use typecasting to turn the latest values for variables 'one' and 'zero' back into integers. Print the result and the datatype of the result.\n",
        "\n",
        "\n",
        "\n",
        "# C) Use typecasting to turn the latest values for variables 'bool_true' and 'bool_false' back into boolean values. Print the result and the datatype of the result.\n",
        "\n",
        "\n",
        "\n",
        "\n"
      ],
      "execution_count": 20,
      "outputs": [
        {
          "output_type": "stream",
          "text": [
            "True 0 True False\n"
          ],
          "name": "stdout"
        }
      ]
    },
    {
      "cell_type": "markdown",
      "metadata": {
        "id": "epo1h8nHa0vb",
        "colab_type": "text"
      },
      "source": [
        "\n",
        "\n",
        "## OPERATORS\n",
        "\n",
        "### P1.PY\n",
        "\n",
        "\n"
      ]
    },
    {
      "cell_type": "code",
      "metadata": {
        "id": "L4LBaFXQa0vc",
        "colab_type": "code",
        "colab": {
          "base_uri": "https://localhost:8080/",
          "height": 68
        },
        "outputId": "936afa16-f642-4584-b6ef-5af72ba86c14"
      },
      "source": [
        "\"\"\"\n",
        "Integer & Float Operators\n",
        "\"\"\"\n",
        "\n",
        "# Complete the specified math operations. Do the next operation on the result from the previous operation.\n",
        "\n",
        "orig_var = 100\n",
        "\n",
        "# Add 50\n",
        "orig_var += 50 # 150\n",
        "\n",
        "# Subtract 90\n",
        "orig_var -= 90 # 60\n",
        "\n",
        "# Multiply 10\n",
        "\n",
        "orig_var *= 10 # 600\n",
        "\n",
        "# Divide 150\n",
        "\n",
        "orig_var /= 150 # 4\n",
        "\n",
        "# Modulus 3\n",
        "orig_var %= 3 # orig_var = orig_var % 3\n",
        "\n",
        "print(orig_var)\n",
        "\n",
        "print( 4 % 3 ) # what is the remainder if we divide 4 by 3\n",
        "\n",
        "print( 15 ** 2 ) # 15 ^ 2 == 225"
      ],
      "execution_count": 23,
      "outputs": [
        {
          "output_type": "stream",
          "text": [
            "1.0\n",
            "1\n",
            "225\n"
          ],
          "name": "stdout"
        }
      ]
    },
    {
      "cell_type": "markdown",
      "metadata": {
        "id": "gSH_zh9Ma0ve",
        "colab_type": "text"
      },
      "source": [
        "\n",
        "\n",
        "### P2.PY\n",
        "\n",
        "\n"
      ]
    },
    {
      "cell_type": "code",
      "metadata": {
        "id": "fSBl68kva0vf",
        "colab_type": "code",
        "colab": {
          "base_uri": "https://localhost:8080/",
          "height": 34
        },
        "outputId": "341c91ce-53ec-4566-ee38-14f7de894c1a"
      },
      "source": [
        "\"\"\"\n",
        "String Operators\n",
        "\"\"\"\n",
        "\n",
        "# Create two variables, each of which is half of a compound sentence. Do NOT add any punctuation up front. Add the two variables together, and print the result.\n",
        "## Example compound sentence: \"I'll go to the beach today, and I'll go snorkeling.\" \n",
        "\n",
        "one = \"I'll go to the beach today\"\n",
        "two = \"I'll go snorkeling\"\n",
        "\n",
        "compound = one + \", and \" + two\n",
        "print(compound)"
      ],
      "execution_count": 24,
      "outputs": [
        {
          "output_type": "stream",
          "text": [
            "I'll go to the beach today, and I'll go snorkeling\n"
          ],
          "name": "stdout"
        }
      ]
    },
    {
      "cell_type": "markdown",
      "metadata": {
        "id": "wS4S1JEPa0vh",
        "colab_type": "text"
      },
      "source": [
        "\n",
        "\n",
        "### P3.PY\n",
        "\n",
        "\n"
      ]
    },
    {
      "cell_type": "code",
      "metadata": {
        "id": "DqV-kCfza0vh",
        "colab_type": "code",
        "colab": {
          "base_uri": "https://localhost:8080/",
          "height": 233
        },
        "outputId": "4c130568-f622-45a6-f52a-3c5207abddc9"
      },
      "source": [
        "\"\"\"\n",
        "Addition I - Numbers & Strings\n",
        "\"\"\"\n",
        "\n",
        "# Add the below sets of variables together.\n",
        "\n",
        "# A)\n",
        "a = 0\n",
        "b = 2\n",
        "\n",
        "print(a+b) # 2\n",
        "\n",
        "\n",
        "\n",
        "# B)\n",
        "c = '0'\n",
        "d = '2'\n",
        "print(c+d) # 02\n",
        "\n",
        "\n",
        "\n",
        "# C)\n",
        "e = \"0\"\n",
        "f = 2\n",
        "\n",
        "print(e+f) # exception"
      ],
      "execution_count": 25,
      "outputs": [
        {
          "output_type": "stream",
          "text": [
            "2\n",
            "02\n"
          ],
          "name": "stdout"
        },
        {
          "output_type": "error",
          "ename": "TypeError",
          "evalue": "ignored",
          "traceback": [
            "\u001b[0;31m---------------------------------------------------------------------------\u001b[0m",
            "\u001b[0;31mTypeError\u001b[0m                                 Traceback (most recent call last)",
            "\u001b[0;32m<ipython-input-25-51725920b736>\u001b[0m in \u001b[0;36m<module>\u001b[0;34m()\u001b[0m\n\u001b[1;32m     24\u001b[0m \u001b[0mf\u001b[0m \u001b[0;34m=\u001b[0m \u001b[0;36m2\u001b[0m\u001b[0;34m\u001b[0m\u001b[0;34m\u001b[0m\u001b[0m\n\u001b[1;32m     25\u001b[0m \u001b[0;34m\u001b[0m\u001b[0m\n\u001b[0;32m---> 26\u001b[0;31m \u001b[0mprint\u001b[0m\u001b[0;34m(\u001b[0m\u001b[0me\u001b[0m\u001b[0;34m+\u001b[0m\u001b[0mf\u001b[0m\u001b[0;34m)\u001b[0m \u001b[0;31m# exception\u001b[0m\u001b[0;34m\u001b[0m\u001b[0;34m\u001b[0m\u001b[0m\n\u001b[0m",
            "\u001b[0;31mTypeError\u001b[0m: must be str, not int"
          ]
        }
      ]
    },
    {
      "cell_type": "markdown",
      "metadata": {
        "id": "l5AT4jlFa0vj",
        "colab_type": "text"
      },
      "source": [
        "\n",
        "\n",
        "\n",
        "### P4.PY\n",
        "\n",
        "\n"
      ]
    },
    {
      "cell_type": "code",
      "metadata": {
        "id": "hCDEgqWZa0vm",
        "colab_type": "code",
        "colab": {
          "base_uri": "https://localhost:8080/",
          "height": 68
        },
        "outputId": "f79f7db7-56e0-44ae-91a0-079d06e99aad"
      },
      "source": [
        "\"\"\"\n",
        "Addition II - Booleans\n",
        "\"\"\"\n",
        "\n",
        "# Add the below sets of variables together.\n",
        "\n",
        "# A)\n",
        "a = True\n",
        "b = True\n",
        "\n",
        "print(a+b)\n",
        "\n",
        "\n",
        "\n",
        "# B)\n",
        "c = False\n",
        "d = False\n",
        "\n",
        "print(c+d)\n",
        "\n",
        "\n",
        "\n",
        "# C)\n",
        "e = True\n",
        "f = False\n",
        "\n",
        "print(e+f)"
      ],
      "execution_count": 28,
      "outputs": [
        {
          "output_type": "stream",
          "text": [
            "2\n",
            "0\n",
            "1\n"
          ],
          "name": "stdout"
        }
      ]
    },
    {
      "cell_type": "markdown",
      "metadata": {
        "id": "HdA26Gnla0vo",
        "colab_type": "text"
      },
      "source": [
        "\n"
      ]
    }
  ]
}