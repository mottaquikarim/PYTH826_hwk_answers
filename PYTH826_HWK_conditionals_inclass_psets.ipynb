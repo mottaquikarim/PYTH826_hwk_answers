{
  "nbformat": 4,
  "nbformat_minor": 0,
  "metadata": {
    "colab": {
      "name": "PYTH826: HWK: conditionals_inclass_psets.ipynb",
      "version": "0.3.2",
      "provenance": [],
      "include_colab_link": true
    },
    "kernelspec": {
      "name": "python3",
      "display_name": "Python 3"
    }
  },
  "cells": [
    {
      "cell_type": "markdown",
      "metadata": {
        "id": "view-in-github",
        "colab_type": "text"
      },
      "source": [
        "<a href=\"https://colab.research.google.com/github/mottaquikarim/PYTH826_hwk_answers/blob/master/PYTH826_HWK_conditionals_inclass_psets.ipynb\" target=\"_parent\"><img src=\"https://colab.research.google.com/assets/colab-badge.svg\" alt=\"Open In Colab\"/></a>"
      ]
    },
    {
      "cell_type": "markdown",
      "metadata": {
        "id": "BmB_dh5PlzZr",
        "colab_type": "text"
      },
      "source": [
        "<a href=\"https://colab.research.google.com/github/mottaquikarim/PYTH2/blob/master/src/PSETS/nb/conditionals_inclass_psets.ipynb\" target=\"_parent\"><img src=\"https://colab.research.google.com/assets/colab-badge.svg\" alt=\"Open In Colab\"/></a>"
      ]
    },
    {
      "cell_type": "markdown",
      "metadata": {
        "id": "7lFter4vlzZv",
        "colab_type": "text"
      },
      "source": [
        "#  CONDITIONALS\n",
        "\n",
        "## WEATHER\n",
        "\n",
        "### P1.PY\n",
        "\n",
        "\n"
      ]
    },
    {
      "cell_type": "code",
      "metadata": {
        "id": "LZ1uayBElzZw",
        "colab_type": "code",
        "colab": {}
      },
      "source": [
        "\"\"\"\n",
        "Weather I - Do you need boots?\n",
        "\"\"\"\n",
        "\n",
        "# Use the values of the vars defined below to ouput the correct contextual answer to the questions below. (Note: The variables themselves ARE the questions.)\n",
        "\n",
        "# Example:\n",
        "## am_i_hungry = False\n",
        "## am_i_tired = True\n",
        "## do_i_need_to_stay_awake = False\n",
        "\n",
        "## should_i_drink_coffee_now = am_i_tired and do_i_need_to_stay_awake\n",
        "\n",
        "## ^^ This ^^ evaluates to False. If you're tired and don't need to stay awake, you don't need to drink coffee!\n",
        "\n",
        "\n",
        "is_it_raining = True\n",
        "is_it_snowing = False\n",
        "\n",
        "\n",
        "do_i_need_snow_boots = None\n",
        "can_i_skip_snow_boots = None\n",
        "do_i_need_rain_boots = None\n",
        "can_i_skip_rain_boots = None"
      ],
      "execution_count": 0,
      "outputs": []
    },
    {
      "cell_type": "markdown",
      "metadata": {
        "id": "B-OpiLRElzZz",
        "colab_type": "text"
      },
      "source": [
        "\n",
        "\n",
        "### P2.PY\n",
        "\n",
        "\n"
      ]
    },
    {
      "cell_type": "code",
      "metadata": {
        "id": "9bvQ0V3OlzZ0",
        "colab_type": "code",
        "colab": {}
      },
      "source": [
        "\"\"\"\n",
        "Weather II - Precipitation\n",
        "\"\"\"\n",
        "\n",
        "# Repeat the same process as p1, using this new set of variables.\n",
        "\n",
        "sunny = True\n",
        "raining = True\n",
        "snowing = False\n",
        "\n",
        "is_it_sunny = None\n",
        "is_there_precipitation = None\n",
        "is_it_sleeting = None\n",
        "is_there_rainbow = None"
      ],
      "execution_count": 0,
      "outputs": []
    },
    {
      "cell_type": "markdown",
      "metadata": {
        "id": "MpJD1xOGlzZ2",
        "colab_type": "text"
      },
      "source": [
        "\n",
        "\n",
        "### P3.PY\n",
        "\n",
        "\n"
      ]
    },
    {
      "cell_type": "code",
      "metadata": {
        "id": "yt0DB9EElzZ2",
        "colab_type": "code",
        "colab": {}
      },
      "source": [
        "\"\"\"\n",
        "Weather III - Describe Conditions\n",
        "\"\"\"\n",
        "\n",
        "# Repeat the same process as p1, using this new set of variables.\n",
        "\n",
        "\n",
        "is_it_warm = True\n",
        "is_it_humid = True\n",
        "is_it_cold = False\n",
        "is_it_icy = False\n",
        "is_it_foggy = False\n",
        "is_it_windy = False\n",
        "is_it_overcast = True\n",
        "\n",
        "\n",
        "is_it_summer_weather = None\n",
        "is_rain_coming = None\n",
        "is_it_muggy = None\n",
        "do_i_need_coat = None\n",
        "\n"
      ],
      "execution_count": 0,
      "outputs": []
    },
    {
      "cell_type": "markdown",
      "metadata": {
        "id": "oLyr1BeMlzZ4",
        "colab_type": "text"
      },
      "source": [
        "\n",
        "\n",
        "## LOGIC\n",
        "\n",
        "### P1.PY\n",
        "\n",
        "\n"
      ]
    },
    {
      "cell_type": "code",
      "metadata": {
        "id": "iTDMb3VnlzZ5",
        "colab_type": "code",
        "colab": {
          "base_uri": "https://localhost:8080/",
          "height": 34
        },
        "outputId": "ef76fc34-2adf-4490-e467-259eab871651"
      },
      "source": [
        "\"\"\"\n",
        "Calculate Grade\n",
        "\"\"\"\n",
        "\n",
        "grade = \"asdfas\"  # expect this to be a number\n",
        "\n",
        "# write a program that will print the \"letter\"\n",
        "# equivalent of the grade, for example:\n",
        "# when grade = 90 # -> expect A\n",
        "# when grade = 80 # -> expect B\n",
        "# when grade = 70 # -> expect C\n",
        "# when grade = 60 # -> expect D\n",
        "# when grade = 54 # -> expect F\n",
        "# when grade = -10 # -> expect Error\n",
        "# when grade = 10000 # -> expect Error\n",
        "# when grade = \"lol skool sucks\" # -> expect Error\n",
        "\n",
        "if type(grade) != int:\n",
        "  print(\"Error\")\n",
        "elif grade < 0 or grade > 100:\n",
        "  print('ERROR')\n",
        "elif grade >= 90:\n",
        "  print(\"A\")\n",
        "elif grade >= 80:\n",
        "  print(\"B\")\n",
        "elif grade >= 70:\n",
        "  print(\"C\")\n",
        "elif grade >= 60:\n",
        "  print(\"D\")\n",
        "elif grade > 0:\n",
        "  print(\"F\")"
      ],
      "execution_count": 2,
      "outputs": [
        {
          "output_type": "stream",
          "text": [
            "Error\n"
          ],
          "name": "stdout"
        }
      ]
    },
    {
      "cell_type": "markdown",
      "metadata": {
        "id": "uwBmP-UJlzZ6",
        "colab_type": "text"
      },
      "source": [
        "\n",
        "\n",
        "### P2.PY\n",
        "\n",
        "\n"
      ]
    },
    {
      "cell_type": "code",
      "metadata": {
        "id": "PDC949fNlzZ7",
        "colab_type": "code",
        "colab": {
          "base_uri": "https://localhost:8080/",
          "height": 34
        },
        "outputId": "ff4fd181-75c0-4f4b-b842-d4fe0c970098"
      },
      "source": [
        "\"\"\"\n",
        "Sign of Product\n",
        "\"\"\"\n",
        "\n",
        "# Given three numbers, a, b, c, without multiplying, determine the sign of their product.\n",
        "\n",
        "# EXAMPLE: a = -5, b = 6, c = -4, print 1\n",
        "\n",
        "# EXAMPLE: a = 5, b = 6, c = -4, print -1\n",
        "\n",
        "a = 5\n",
        "b = 6\n",
        "c = -4\n",
        "sign = 0\n",
        "if a > 0 and b > 0 and c > 0:\n",
        "  sign = 1\n",
        "elif a < 0 and b < 0 and c > 0:\n",
        "  sign = 1\n",
        "elif a < 0 and c < 0 and b > 0:\n",
        "  sign = 1\n",
        "else:\n",
        "  sign = -1\n",
        "\n",
        "print(sign)"
      ],
      "execution_count": 6,
      "outputs": [
        {
          "output_type": "stream",
          "text": [
            "-1\n"
          ],
          "name": "stdout"
        }
      ]
    },
    {
      "cell_type": "markdown",
      "metadata": {
        "id": "uUIoekZylzZ9",
        "colab_type": "text"
      },
      "source": [
        "\n",
        "\n",
        "### P3.PY\n",
        "\n",
        "\n"
      ]
    },
    {
      "cell_type": "code",
      "metadata": {
        "id": "KqDCEXrElzZ-",
        "colab_type": "code",
        "colab": {
          "base_uri": "https://localhost:8080/",
          "height": 34
        },
        "outputId": "ad163c33-df0a-4ec2-abfc-a0f142865ccc"
      },
      "source": [
        "\"\"\"\n",
        "Any Uppercase\n",
        "\"\"\"\n",
        "\n",
        "# Given a string str, determine if there are any uppercase values in it. Use only conditional statements and string methods (you may have to look some up!)\n",
        "\n",
        "# EXAMPLE: str = \"teSt\", print True\n",
        "\n",
        "str_ = \"helLo\"\n",
        "str_lower = str_.lower()\n",
        "\n",
        "if str_ == str_lower:\n",
        "  # this is ONLY true if the original string is ALL lower case\n",
        "  print(False)\n",
        "else:\n",
        "  print(True)\n"
      ],
      "execution_count": 12,
      "outputs": [
        {
          "output_type": "stream",
          "text": [
            "True\n"
          ],
          "name": "stdout"
        }
      ]
    },
    {
      "cell_type": "markdown",
      "metadata": {
        "id": "4kOrJc-wlzaA",
        "colab_type": "text"
      },
      "source": [
        "\n",
        "\n",
        "### P4.PY\n",
        "\n",
        "\n"
      ]
    },
    {
      "cell_type": "code",
      "metadata": {
        "id": "HfYcvq-LlzaB",
        "colab_type": "code",
        "colab": {
          "base_uri": "https://localhost:8080/",
          "height": 52
        },
        "outputId": "3752b272-a4df-4e17-c275-0c43892bc4dd"
      },
      "source": [
        "\"\"\"\n",
        "Empty Strings\n",
        "\"\"\"\n",
        "\n",
        "# Given any empty string, of the form:\n",
        "\n",
        "# ''\n",
        "# ' '\n",
        "# '  '\n",
        "# any other num of spaces...\n",
        "\n",
        "# determine if the str is empty or not (print True or False). Hint: You'll need to look up how to remove trailing spaces from a string.\n",
        "\n",
        "' '\n",
        "'        '\n",
        "''\n",
        "\n",
        "'   hello   '\n",
        "\n",
        "x = ''\n",
        "\n",
        "if x.strip() == '':\n",
        "  print(True)\n",
        "  print(x.count(' '))\n",
        "else:\n",
        "  print(False)"
      ],
      "execution_count": 22,
      "outputs": [
        {
          "output_type": "stream",
          "text": [
            "True\n",
            "0\n"
          ],
          "name": "stdout"
        }
      ]
    },
    {
      "cell_type": "markdown",
      "metadata": {
        "id": "73fUeDy-lzaD",
        "colab_type": "text"
      },
      "source": [
        "\n",
        "\n",
        "### P5.PY\n",
        "\n",
        "\n"
      ]
    },
    {
      "cell_type": "code",
      "metadata": {
        "id": "jUuIxu4tlzaE",
        "colab_type": "code",
        "colab": {
          "base_uri": "https://localhost:8080/",
          "height": 34
        },
        "outputId": "40cd4680-cbd1-4664-c76b-1e57fe37c25a"
      },
      "source": [
        "\"\"\"\n",
        "truthTableEvaluator\n",
        "\"\"\"\n",
        "\n",
        "# Given the following inputs:\n",
        "\n",
        "\n",
        "# P = # True or False\n",
        "# Q = # True or False\n",
        "# op = # '^' (logical AND, conjunction)\n",
        "#      # OR, 'v' (logical OR, disjunction)\n",
        "#      # OR, '->' (logical conditional, implication)\n",
        "#      # OR, '<->' (biconditional)\n",
        "# determine the correct outcome.\n",
        "\n",
        "# https://medium.com/i-math/intro-to-truth-tables-boolean-algebra-73b331dd9b94\n",
        "\n",
        "\"\"\"\n",
        "P | Q | P AND Q | P OR Q | P IMPLIED Q | P IF AND ONLY IF Q\n",
        "T   T      T        T            T               T\n",
        "T   F      F        T            F               F\n",
        "F   T      F        T            T               F\n",
        "F   F      F        F            T               T\n",
        "\n",
        "\"\"\"\n",
        "\n",
        "P = True\n",
        "Q = False\n",
        "op = \"^\"\n",
        "\n",
        "if op == '^': # LOGICAL AND\n",
        "  if P and Q:\n",
        "    print(True)\n",
        "  else:\n",
        "    print(False)\n",
        "elif op == 'V': # logical OR\n",
        "  if P or Q:\n",
        "    print(True)\n",
        "  else:\n",
        "    print(False)\n",
        "elif op == '->': # logical conditional\n",
        "  if P and not Q:\n",
        "    print(False)\n",
        "  else:\n",
        "    print(True)\n",
        "elif op == '<->': # biconditional\n",
        "  if P == Q:\n",
        "    print(True)\n",
        "  else:\n",
        "    print(False)\n"
      ],
      "execution_count": 48,
      "outputs": [
        {
          "output_type": "stream",
          "text": [
            "False\n"
          ],
          "name": "stdout"
        }
      ]
    },
    {
      "cell_type": "code",
      "metadata": {
        "id": "ovlXLix-uzA8",
        "colab_type": "code",
        "colab": {}
      },
      "source": [
        "\"\"\"\n",
        "truthTableEvaluator\n",
        "\"\"\"\n",
        "\n",
        "# Given the following inputs:\n",
        "\n",
        "\n",
        "# P = # True or False\n",
        "# Q = # True or False\n",
        "# op = # '^' (logical AND, conjunction)\n",
        "#      # OR, 'v' (logical OR, disjunction)\n",
        "#      # OR, '->' (logical conditional, implication)\n",
        "#      # OR, '<->' (biconditional)\n",
        "# determine the correct outcome.\n",
        "\n",
        "# https://medium.com/i-math/intro-to-truth-tables-boolean-algebra-73b331dd9b94\n",
        "\n",
        "\"\"\"\n",
        "P | Q | P AND Q | P OR Q | P IMPLIED Q | P IF AND ONLY IF Q\n",
        "T   T      T        T            T               T\n",
        "T   F      F        T            F               F\n",
        "F   T      F        T            T               F\n",
        "F   F      F        F            T               T\n",
        "\n",
        "\"\"\"\n",
        "\n",
        "P = True\n",
        "Q = False\n",
        "op = \"^\"\n",
        "\n",
        "if op == '^': # LOGICAL AND\n",
        "  print(P and Q)\n",
        "elif op == 'V': # logical OR\n",
        "  print(P or Q)\n",
        "elif op == '->': # logical conditional\n",
        "  print(False if P and not Q else True)\n",
        "elif op == '<->': # biconditional\n",
        "  print(P == Q)"
      ],
      "execution_count": 0,
      "outputs": []
    },
    {
      "cell_type": "markdown",
      "metadata": {
        "id": "UPBRSePglzaG",
        "colab_type": "text"
      },
      "source": [
        "\n",
        "\n",
        "## RANDOM_NUMS\n",
        "\n",
        "### P1.PY\n",
        "\n",
        "\n"
      ]
    },
    {
      "cell_type": "code",
      "metadata": {
        "id": "61IvyQB7lzaH",
        "colab_type": "code",
        "colab": {
          "base_uri": "https://localhost:8080/",
          "height": 52
        },
        "outputId": "a07fd9db-4030-4b2f-bb05-c575685b472f"
      },
      "source": [
        "\"\"\"\n",
        "Generate Traffic Light\n",
        "\"\"\"\n",
        "\n",
        "# import python random package\n",
        "from random import randint\n",
        "\n",
        "# generates a random number from 1 to 3\n",
        "randnum = randint(1,3)\n",
        "\n",
        "# if 1, print 'red'\n",
        "# if 2, print 'green',\n",
        "# if 3, print 'yellow'\n",
        "print(randnum)\n",
        "if randnum == 1:\n",
        "  print('red')\n",
        "elif randnum == 2:\n",
        "  print('green')\n",
        "else:\n",
        "  print('yellow')\n"
      ],
      "execution_count": 26,
      "outputs": [
        {
          "output_type": "stream",
          "text": [
            "1\n",
            "red\n"
          ],
          "name": "stdout"
        }
      ]
    },
    {
      "cell_type": "code",
      "metadata": {
        "id": "NnBpi9Uvq1n3",
        "colab_type": "code",
        "colab": {
          "base_uri": "https://localhost:8080/",
          "height": 34
        },
        "outputId": "19ec5f03-9073-46ff-8da2-0ac5694fde30"
      },
      "source": [
        "import random\n",
        "\n",
        "l1 = [1,2,3]\n",
        "\n",
        "randnum = random.choice(l1)\n",
        "\n",
        "if randnum == 1:\n",
        "  print('red')\n",
        "elif randnum == 2:\n",
        "  print('green')\n",
        "else:\n",
        "  print('yellow')\n"
      ],
      "execution_count": 27,
      "outputs": [
        {
          "output_type": "stream",
          "text": [
            "green\n"
          ],
          "name": "stdout"
        }
      ]
    },
    {
      "cell_type": "markdown",
      "metadata": {
        "id": "s6e_xofflzaJ",
        "colab_type": "text"
      },
      "source": [
        "\n",
        "\n",
        "### P2.PY\n",
        "\n",
        "\n"
      ]
    },
    {
      "cell_type": "code",
      "metadata": {
        "id": "3TDIwVu3lzaK",
        "colab_type": "code",
        "colab": {
          "base_uri": "https://localhost:8080/",
          "height": 34
        },
        "outputId": "ffbae201-3a04-4f12-841a-83252dabf147"
      },
      "source": [
        "\"\"\"\n",
        "Generate Phone Number w/Area Code\n",
        "\"\"\"\n",
        "\n",
        "# import python random package\n",
        "from random import randint\n",
        "\n",
        "# generate a random phone number of the form:\n",
        "# 1-718-001-2825\n",
        "# This should be a string\n",
        "# Valid Area Codes are: 646, 718, 212\n",
        "# if phone number doesn't have [646, 718, 212]\n",
        "# as area code, pick one of the above at random\n",
        "\n",
        "\n",
        "  \n",
        "b = randint(0, 999)\n",
        "if b < 10: # 6\n",
        "  b = f\"00{b}\" # \"006\"\n",
        "elif b < 100: # 66\n",
        "  b = f\"0{b}\" # \"066\"\n",
        "  \n",
        "c = randint(0, 9999)\n",
        "if c < 10:\n",
        "  c = f\"000{c}\"\n",
        "elif c < 100:\n",
        "  c = f\"00{c}\"\n",
        "elif c < 1000:\n",
        "  c = f\"0{c}\"\n",
        "\n",
        "a = randint(1,3)\n",
        "if a == 1:\n",
        "  a = 646\n",
        "elif a == 2:\n",
        "  a = 718\n",
        "else:\n",
        "  a = 212\n",
        "  \n",
        "phone = f\"1-{a}-{b}-{c}\"\n",
        "print(phone)"
      ],
      "execution_count": 46,
      "outputs": [
        {
          "output_type": "stream",
          "text": [
            "1-718-081-7148\n"
          ],
          "name": "stdout"
        }
      ]
    },
    {
      "cell_type": "markdown",
      "metadata": {
        "id": "qBeGzkxxlzaL",
        "colab_type": "text"
      },
      "source": [
        "\n"
      ]
    }
  ]
}